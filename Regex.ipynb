{
 "cells": [
  {
   "cell_type": "markdown",
   "id": "2cae077f",
   "metadata": {},
   "source": [
    "#### Homework Regex"
   ]
  },
  {
   "cell_type": "code",
   "execution_count": 1,
   "id": "8867d9a7",
   "metadata": {},
   "outputs": [],
   "source": [
    "import re"
   ]
  },
  {
   "cell_type": "code",
   "execution_count": 2,
   "id": "15d2613d",
   "metadata": {},
   "outputs": [],
   "source": [
    "speed = 'Speed limit sign says 90 km per hour. I thought it was for skateboards'\n",
    "emails = 'luc_besson@example.com, daniel_morales@example.biz, emilien@example.net'\n",
    "task4 = 'Amit 34-3456 12-05-2007, XYZ 56-4532 11-11-2011, ABC 67-8945 12-01-2009'\n",
    "task5 = 'Marseille is port city in the south of France, an important transit and trade center since its founding by the Greeks around 600 BC.'"
   ]
  },
  {
   "cell_type": "markdown",
   "id": "c628f08a",
   "metadata": {},
   "source": [
    "Задача 1:Вернуть первое слово из строки"
   ]
  },
  {
   "cell_type": "code",
   "execution_count": 3,
   "id": "1ae24854",
   "metadata": {},
   "outputs": [
    {
     "data": {
      "text/plain": [
       "<re.Match object; span=(0, 5), match='Speed'>"
      ]
     },
     "execution_count": 3,
     "metadata": {},
     "output_type": "execute_result"
    }
   ],
   "source": [
    "re.search(r'^\\w+', speed)"
   ]
  },
  {
   "cell_type": "markdown",
   "id": "fe71a499",
   "metadata": {},
   "source": [
    "Задача 2: Вернуть первые 2 символа каждого слова"
   ]
  },
  {
   "cell_type": "code",
   "execution_count": 4,
   "id": "46e2fb66",
   "metadata": {},
   "outputs": [
    {
     "data": {
      "text/plain": [
       "['Sp',\n",
       " 'li',\n",
       " 'si',\n",
       " 'sa',\n",
       " '90',\n",
       " 'km',\n",
       " 'pe',\n",
       " 'ho',\n",
       " 'I ',\n",
       " 'th',\n",
       " 'it',\n",
       " 'wa',\n",
       " 'fo',\n",
       " 'sk']"
      ]
     },
     "execution_count": 4,
     "metadata": {},
     "output_type": "execute_result"
    }
   ],
   "source": [
    "re.findall(r'\\b\\w.', speed)"
   ]
  },
  {
   "cell_type": "markdown",
   "id": "659d7b63",
   "metadata": {},
   "source": [
    "Задача 3: Вернуть список доменов из списка адресов электронной почты. Доп.: вытащить только домен\n",
    "верхнего уровня"
   ]
  },
  {
   "cell_type": "code",
   "execution_count": 5,
   "id": "e8c7363a",
   "metadata": {},
   "outputs": [
    {
     "data": {
      "text/plain": [
       "['@example.com', '@example.biz', '@example.net']"
      ]
     },
     "execution_count": 5,
     "metadata": {},
     "output_type": "execute_result"
    }
   ],
   "source": [
    "re.findall(r'@\\w+.\\w+', emails)"
   ]
  },
  {
   "cell_type": "code",
   "execution_count": 6,
   "id": "9b3f4a28",
   "metadata": {},
   "outputs": [
    {
     "data": {
      "text/plain": [
       "['com', 'biz', 'net']"
      ]
     },
     "execution_count": 6,
     "metadata": {},
     "output_type": "execute_result"
    }
   ],
   "source": [
    "re.findall(r'@\\w+.(\\w+)', emails)"
   ]
  },
  {
   "cell_type": "markdown",
   "id": "89171979",
   "metadata": {},
   "source": [
    "Задача 4: Извлечь дату из строки ('Amit 34-3456 12-05-2007, XYZ 56-4532 11-11-2011, ABC 67-8945 12-01-2009'). \n",
    "Доп.: вытащить только год"
   ]
  },
  {
   "cell_type": "code",
   "execution_count": 7,
   "id": "5aed08f1",
   "metadata": {},
   "outputs": [
    {
     "data": {
      "text/plain": [
       "['12-05-2007', '11-11-2011', '12-01-2009']"
      ]
     },
     "execution_count": 7,
     "metadata": {},
     "output_type": "execute_result"
    }
   ],
   "source": [
    "re.findall('\\d{2}-\\d{2}-\\d{4}', task4)"
   ]
  },
  {
   "cell_type": "markdown",
   "id": "f700bfa1",
   "metadata": {},
   "source": [
    "Задача 5: Извлечь все слова, начинающиеся на гласную"
   ]
  },
  {
   "cell_type": "code",
   "execution_count": 8,
   "id": "d5e9e358",
   "metadata": {},
   "outputs": [
    {
     "data": {
      "text/plain": [
       "['is', 'in', 'of', 'an', 'important', 'and', 'its', 'around']"
      ]
     },
     "execution_count": 8,
     "metadata": {},
     "output_type": "execute_result"
    }
   ],
   "source": [
    "re.findall(r'\\b[aeiouAEIOU]\\w+', task5)"
   ]
  },
  {
   "cell_type": "markdown",
   "id": "883b043e",
   "metadata": {},
   "source": [
    "Задача 6: Разбить строку по нескольким разделителям"
   ]
  },
  {
   "cell_type": "code",
   "execution_count": 9,
   "id": "bc178132",
   "metadata": {},
   "outputs": [
    {
     "data": {
      "text/plain": [
       "['Speed',\n",
       " 'limit',\n",
       " 'sign',\n",
       " 'says',\n",
       " '90',\n",
       " 'km',\n",
       " 'per',\n",
       " 'hour',\n",
       " 'I',\n",
       " 'thought',\n",
       " 'it',\n",
       " 'was',\n",
       " 'for',\n",
       " 'skateboards']"
      ]
     },
     "execution_count": 9,
     "metadata": {},
     "output_type": "execute_result"
    }
   ],
   "source": [
    "re.split(r'\\W+', speed)"
   ]
  },
  {
   "cell_type": "code",
   "execution_count": null,
   "id": "209f21ff",
   "metadata": {},
   "outputs": [],
   "source": []
  }
 ],
 "metadata": {
  "kernelspec": {
   "display_name": "Python 3",
   "language": "python",
   "name": "python3"
  },
  "language_info": {
   "codemirror_mode": {
    "name": "ipython",
    "version": 3
   },
   "file_extension": ".py",
   "mimetype": "text/x-python",
   "name": "python",
   "nbconvert_exporter": "python",
   "pygments_lexer": "ipython3",
   "version": "3.8.8"
  }
 },
 "nbformat": 4,
 "nbformat_minor": 5
}
